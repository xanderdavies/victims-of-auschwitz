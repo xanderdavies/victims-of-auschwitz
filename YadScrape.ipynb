{
 "cells": [
  {
   "cell_type": "code",
   "execution_count": null,
   "metadata": {},
   "outputs": [],
   "source": [
    "# setup\n",
    "\n",
    "import os\n",
    "import re\n",
    "import json\n",
    "import time\n",
    "import csv\n",
    "\n",
    "from selenium import webdriver\n",
    "from selenium.webdriver.common.keys import Keys\n",
    "from selenium.webdriver.common.by import By\n",
    "from selenium.webdriver.support.ui import WebDriverWait\n",
    "from selenium.webdriver.support import expected_conditions\n",
    "from selenium.common.exceptions import TimeoutException"
   ]
  },
  {
   "cell_type": "code",
   "execution_count": null,
   "metadata": {},
   "outputs": [],
   "source": []
  },
  {
   "cell_type": "code",
   "execution_count": null,
   "metadata": {},
   "outputs": [],
   "source": [
    "def wait_until_present(driver, time, *locator):\n",
    "    return WebDriverWait(driver, time).until(expected_conditions.presence_of_element_located(locator))"
   ]
  },
  {
   "cell_type": "code",
   "execution_count": null,
   "metadata": {},
   "outputs": [],
   "source": [
    "# if want actual chrome driver\n",
    "\n",
    "driver = webdriver.Chrome(executable_path = os.getcwd() + \"/chromedriver\")"
   ]
  },
  {
   "cell_type": "code",
   "execution_count": null,
   "metadata": {},
   "outputs": [],
   "source": [
    "# if want headless chrome driver\n",
    "\n",
    "options = webdriver.ChromeOptions()\n",
    "options.add_argument('headless')\n",
    "options.add_argument('window-size=1200x600')\n",
    "driver = webdriver.Chrome(executable_path = os.getcwd() + \"/chromedriver\", options=options)"
   ]
  },
  {
   "cell_type": "code",
   "execution_count": null,
   "metadata": {
    "scrolled": true
   },
   "outputs": [],
   "source": [
    "# set to specific year, go to correct link.\n",
    "\n",
    "year = 1943 \n",
    "driver.get(\"https://yvng.yadvashem.org/index.html?language=en&advancedSearch=true&yd_value={}&yd_type=Exact&pld_value=Auschwitz&pld_type=synonyms&fate_value=murdered\".format(year))"
   ]
  },
  {
   "cell_type": "code",
   "execution_count": null,
   "metadata": {
    "scrolled": false
   },
   "source": [
    "# scrape data \n",
    "data\n",
    "maxp = driver.find_elements_by_class_name(\"spn-pages-total\")[2].text # total number of pages for specified year\n",
    "data = [dict(birth = 0, location = 0) for x in range(int(maxp)*50+2)] # creates an array of dicts to store data\n",
    "p = 0 # initializes page number\n",
    "for page in range(int(maxp)):\n",
    "    print(p, end = ', ') # prints page number\n",
    "    # checks for \"...\" loading graphic\n",
    "    WebDriverWait(driver, 15).until(lambda driver: driver.find_element_by_xpath('//*[@id=\"overlay\"][contains(@style, \"display: none\")]'))\n",
    "    # closes out of popup ad if present\n",
    "    if len(driver.find_elements_by_xpath('//*[@aria-hidden=\"true\"]')) == 54:\n",
    "        driver.find_elements_by_xpath('//*[@class=\"close modal_close\"]')[1].click()\n",
    "    results = wait_until_present(driver, 10, By.XPATH, '//*[@role=\"rowgroup\"]')\n",
    "    info = results.find_elements_by_xpath('//*[@role=\"gridcell\"]')\n",
    "    for i in range(int(len(results.find_elements_by_xpath('//*[@role=\"gridcell\"]'))/12)):\n",
    "        data[p*50+i] = {'birth': info[2 + 12*i].text, 'location': info[3 + 12*i].text}\n",
    "    driver.find_elements_by_id(\"next-page-u\")[1].click()\n",
    "    p+=1"
   ]
  },
  {
   "cell_type": "code",
   "execution_count": null,
   "metadata": {},
   "outputs": [],
   "source": [
    "# export data as csv\n",
    "\n",
    "with open('Auschwitz{}.txt'.format(year), 'w') as outfile:\n",
    "    writer = csv.DictWriter(outfile, fieldnames=[\"birth\", \"location\"])\n",
    "    writer.writeheader()\n",
    "    writer.writerows(data)\n",
    "    outfile.close()"
   ]
  },
  {
   "cell_type": "code",
   "execution_count": null,
   "metadata": {},
   "outputs": [],
   "source": []
  }
 ],
 "metadata": {
  "kernelspec": {
   "display_name": "Python 3",
   "language": "python",
   "name": "python3"
  },
  "language_info": {
   "codemirror_mode": {
    "name": "ipython",
    "version": 3
   },
   "file_extension": ".py",
   "mimetype": "text/x-python",
   "name": "python",
   "nbconvert_exporter": "python",
   "pygments_lexer": "ipython3",
   "version": "3.7.3"
  }
 },
 "nbformat": 4,
 "nbformat_minor": 2
}
